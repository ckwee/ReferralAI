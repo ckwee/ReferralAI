{
 "cells": [
  {
   "cell_type": "code",
   "execution_count": 27,
   "metadata": {},
   "outputs": [
    {
     "data": {
      "text/html": [
       "<style>.container { width:100% !important; }</style>"
      ],
      "text/plain": [
       "<IPython.core.display.HTML object>"
      ]
     },
     "metadata": {},
     "output_type": "display_data"
    },
    {
     "data": {
      "text/plain": [
       "<matplotlib.axes._subplots.AxesSubplot at 0x1d8d4b41208>"
      ]
     },
     "execution_count": 27,
     "metadata": {},
     "output_type": "execute_result"
    },
    {
     "data": {
      "image/png": "[encoded data removed]",
      "text/plain": [
       "<Figure size 250x200 with 1 Axes>"
      ]
     },
     "metadata": {},
     "output_type": "display_data"
    }
   ],
   "source": [
    "##main - extract from DB\n",
    "from IPython.core.display import display, HTML\n",
    "display(HTML(\"<style>.container { width:100% !important; }</style>\"))\n",
    "import pyodbc\n",
    "import json\n",
    "import re\n",
    "import pandas as pd\n",
    "from sklearn.model_selection import train_test_split\n",
    "from jsonmerge import merge\n",
    "from datetime import datetime\n",
    "from num2words import num2words\n",
    "import pickle\n",
    "import numpy as np\n",
    "import scipy.sparse\n",
    "import sympy\n",
    "import sklearn.datasets\n",
    "import sklearn.feature_extraction.text\n",
    "import umap\n",
    "import umap.plot\n",
    "import matplotlib.pyplot as plt\n",
    "%matplotlib inline\n",
    "\n",
    "server_p = 'sqlehqraiqhpoc.database.windows.net'\n",
    "\n",
    "database = 'TempData'\n",
    "driver = '{ODBC Driver 17 for SQL Server}'\n",
    "#table_name='ESI_LOG'\n",
    "owner ='dbo'\n",
    "\n",
    "conn = pyodbc.connect('DRIVER='+driver+';SERVER='+server_p+\n",
    "                      ';PORT=1433;DATABASE='+database+';Authentication=ActiveDirectoryInteractive;UID=a-weeck@health.qld.gov.au')         \n",
    "#sql_0 = pd.read_sql_query('''SELECT Referral_Category, icd10list FROM vw_referral where referral_category = 1''',conn)\n",
    "sql_0 = pd.read_sql_query('''SELECT Referral_Category, icd10list FROM vw_referral''',conn)\n",
    "df = pd.DataFrame(sql_0, columns=['Referral_Category','icd10list'])\n",
    "\n",
    "####################\n",
    "from sklearn.feature_extraction.text import CountVectorizer\n",
    "from sklearn.model_selection import train_test_split\n",
    "X = df['icd10list'].values\n",
    "y = df['Referral_Category'].values\n",
    "#y = [num2words(i) for i in y]\n",
    "\n",
    "vectorize_x = CountVectorizer()\n",
    "vectorize_x.fit(X)\n",
    "X_matrix = vectorize_x.transform(X)\n",
    "\n",
    "# vectorize_y = CountVectorizer() \n",
    "# vectorize_y.fit(y)\n",
    "# y_matrix= vectorize_y.transform(y)\n",
    "\n",
    "\n",
    "#%%time\n",
    "#mapper = umap.UMAP(metric='cosine', random_state=42, low_memory=True).fit(X_matrix)\n",
    "# umap.plot.points(mapper ,labels=y, width=500, height=500)\n",
    "mapper = umap.UMAP().fit(X_matrix)\n",
    "umap.plot.points(mapper, labels=y, width=250, height=200)\n"
   ]
  },
  {
   "cell_type": "code",
   "execution_count": 29,
   "metadata": {},
   "outputs": [
    {
     "name": "stderr",
     "output_type": "stream",
     "text": [
      "'c' argument looks like a single numeric RGB or RGBA sequence, which should be avoided as value-mapping will have precedence in case its length matches with 'x' & 'y'.  Please use a 2-D array with a single row if you really want to specify the same RGB or RGBA value for all points.\n"
     ]
    },
    {
     "data": {
      "image/png": "[encoded data removed]",
      "text/plain": [
       "<Figure size 250x200 with 1 Axes>"
      ]
     },
     "metadata": {},
     "output_type": "display_data"
    }
   ],
   "source": [
    "mapper = umap.UMAP().fit(X_matrix)\n",
    "#umap.plot.points(mapper,theme='viridis')\n",
    "ax= umap.plot.points(mapper,background='white', width=250, height=200)\n",
    "#ax.set_xlabel(\"x label\")\n",
    "#ax.set_ylabel(\"y label\")\n",
    "#plt.title('UMAP for referral cat 1');\n",
    "\n",
    "outlier_scores = sklearn.neighbors.LocalOutlierFactor(contamination=0.005).fit_predict(mapper.embedding_)"
   ]
  },
  {
   "cell_type": "code",
   "execution_count": 22,
   "metadata": {},
   "outputs": [
    {
     "name": "stdout",
     "output_type": "stream",
     "text": [
      "[array(['d68_2', 'e23_7', 'f60_3', 'h66_91', 'i13_10', 'j01_20', 'j32_0',\n",
      "       'j32_9', 'j34_89', 'j90', 'k13_70', 'k56_609', 'k63_89', 'm41_9',\n",
      "       'm79_89', 'r09_89', 'r22_1', 'r29_2', 't88_7', 'z86_73'],\n",
      "      dtype='<U8'), array(['e55_9', 'f41_0', 'f41_9', 'i70_0', 'j32_9', 'j34_89', 'j44_9',\n",
      "       'l29_9', 'm41_9', 'm70_4', 'r05', 'r09_82', 'r18_8', 'r21', 'r52',\n",
      "       'r93_0'], dtype='<U8'), array(['d68_2', 'e23_7', 'f60_3', 'h66_90', 'i13_10', 'j01_20', 'j32_0',\n",
      "       'j32_9', 'j34_89', 'j90', 'k13_70', 'k56_609', 'k63_89', 'm41_9',\n",
      "       'm79_89', 'r09_89', 'r22_1', 'r29_2', 't88_7', 'z86_73'],\n",
      "      dtype='<U8'), array(['e55_9', 'f41_0', 'f41_9', 'j44_9', 'l29_9', 'm70_4', 'm70_6',\n",
      "       'r05', 'r10_819', 'r20_8', 'r21', 'r25_2', 'r52'], dtype='<U8'), array(['e55_9', 'f41_0', 'f41_9', 'j44_9', 'l29_9', 'm70_4', 'm70_6',\n",
      "       'r05', 'r10_819', 'r20_8', 'r21', 'r25_2', 'r52'], dtype='<U8'), array(['d68_2', 'e23_7', 'f60_3', 'h66_90', 'i13_10', 'j01_20', 'j32_0',\n",
      "       'j32_9', 'j34_89', 'j90', 'k13_70', 'k56_609', 'k63_89', 'm41_9',\n",
      "       'm79_89', 'r09_89', 'r22_1', 'r29_2', 't88_7', 'z86_73'],\n",
      "      dtype='<U8'), array(['e55_9', 'f41_0', 'f41_9', 'i70_0', 'j32_9', 'j34_89', 'j44_9',\n",
      "       'l29_9', 'm41_9', 'm70_4', 'r05', 'r09_82', 'r18_8', 'r21', 'r52',\n",
      "       'r93_0'], dtype='<U8'), array(['b99_9', 'h60_93', 'h66_90', 'k25_9', 'm25_50', 'r29_2', 'r49_9',\n",
      "       'r52', 'r53_81', 'r53_83'], dtype='<U8'), array(['b99_9', 'h60_93', 'h66_90', 'k25_9', 'm25_50', 'r29_2', 'r49_9',\n",
      "       'r52', 'r53_81', 'r53_83'], dtype='<U8'), array(['j44_1', 'm17_0'], dtype='<U8'), array(['b99_9', 'h60_93', 'h66_90', 'k25_9', 'm25_50', 'r29_2', 'r47_89',\n",
      "       'r49_9', 'r52', 'r53_81', 'r53_83'], dtype='<U8'), array(['b99_9', 'h60_93', 'h66_90', 'k25_9', 'm25_50', 'r29_2', 'r47_89',\n",
      "       'r49_9', 'r52', 'r53_81', 'r53_83'], dtype='<U8'), array(['b99_9', 'h60_93', 'h66_90', 'k25_9', 'm25_50', 'r29_2', 'r47_89',\n",
      "       'r49_9', 'r52', 'r53_81', 'r53_83'], dtype='<U8'), array(['e55_9', 'f41_0', 'f41_9', 'i70_0', 'j32_9', 'j34_89', 'j44_9',\n",
      "       'l29_9', 'm41_9', 'm70_4', 'r05', 'r09_82', 'r18_8', 'r21', 'r52',\n",
      "       'r93_0'], dtype='<U8')]\n"
     ]
    }
   ],
   "source": [
    "outlying_digits = X_matrix[outlier_scores == -1]\n",
    "print(vectorize_x.inverse_transform(outlying_digits))"
   ]
  },
  {
   "cell_type": "code",
   "execution_count": null,
   "metadata": {
    "scrolled": false
   },
   "outputs": [],
   "source": [
    "import pandas as pd\n",
    "from mlxtend.preprocessing import TransactionEncoder\n",
    "from mlxtend.frequent_patterns import apriori\n",
    "from mlxtend.frequent_patterns import association_rules\n",
    "\n",
    "aa=[]\n",
    "for i in X:\n",
    "    #ii='\\''+i.replace(', ','\\',\\'')+'\\''\n",
    "    aa.append(list(i.replace(' ','').split(',')))\n",
    "\n",
    "dataset=aa\n",
    "te = TransactionEncoder()\n",
    "te_ary = te.fit(dataset).transform(dataset)\n",
    "df = pd.DataFrame(te_ary, columns=te.columns_)\n",
    "frequent_itemsets=apriori(df, min_support=0.01, use_colnames=True)\n",
    "display(frequent_itemsets)\n",
    "rules = association_rules(frequent_itemsets,metric=\"lift\")\n",
    "rules[ (rules['lift'] >= 40) & (rules['confidence'] >= 1.0) ]\n",
    "confid_itemsets=rules.sort_values(by=['lift'])\n",
    "confid_itemsets"
   ]
  },
  {
   "cell_type": "code",
   "execution_count": 88,
   "metadata": {},
   "outputs": [
    {
     "name": "stdout",
     "output_type": "stream",
     "text": [
      "E53.8 - Deficiency of other specified B group vitamins\n",
      "G45.9 - Transient cerebral ischemic attack, unspecified\n",
      "G47.9 - Sleep disorder, unspecified\n",
      "H66.90- Otitis media, unspecified, unspecified ear\n",
      "H91.90- Unspecified hearing loss, unspecified ear\n",
      "G47.9 - Sleep disorder, unspecified\n",
      "D80.3 - Selective deficiency of immunoglobulin G [IgG] subclasses\n",
      "E53.8 - Deficiency of other specified B group vitamins\n",
      "G45.9 - Transient cerebral ischemic attack, unspecified\n"
     ]
    }
   ],
   "source": [
    "import icd10\n",
    "\n",
    "print ('E53.8 -',\t\ticd10.find('E53.8').description)\n",
    "print ('G45.9 -',\t\ticd10.find('G45.9').description)\n",
    "print ('G47.9 -',\t\ticd10.find('G47.9').description)\n",
    "print ('H66.90-',\t\ticd10.find('H66.90').description)\n",
    "print ('H91.90-',\t\ticd10.find('H91.90').description)\n",
    "print ('G47.9 -',\t\ticd10.find('G47.9').description)\n",
    "print ('D80.3 -',\t\ticd10.find('D80.3').description)\n",
    "print ('E53.8 -',\t\ticd10.find('E53.8').description)\n",
    "print ('G45.9 -',\t\ticd10.find('G45.9').description)"
   ]
  },
  {
   "cell_type": "code",
   "execution_count": null,
   "metadata": {},
   "outputs": [],
   "source": [
    "support=rules[['support']].values\n",
    "confidence=rules[['confidence']].values\n",
    "#confidence=rules.as_matrix(columns=['confidence'])\n",
    "#coords = rules[[\"support\", \"confidence\"]].values\n",
    "\n",
    "import random\n",
    "import matplotlib.pyplot as plt\n",
    " \n",
    "for i in range (len(support)):\n",
    "   support[i] = support[i] + 0.0025 * (random.randint(1,10) - 5) \n",
    "   confidence[i] = confidence[i] + 0.0025 * (random.randint(1,10) - 5)\n",
    " \n",
    "plt.scatter(support, confidence,   alpha=0.5, marker=\"*\")\n",
    "plt.xlabel('support')\n",
    "plt.ylabel('confidence') \n",
    "plt.show()"
   ]
  },
  {
   "cell_type": "code",
   "execution_count": null,
   "metadata": {},
   "outputs": [],
   "source": [
    "# pd.set_option('display.max_columns', None)  \n",
    "# pd.set_option('display.expand_frame_repr', False)\n",
    "# pd.set_option('max_colwidth', -1)\n",
    "frequent_itemsets['length'] = frequent_itemsets['itemsets'].apply(lambda x: len(x))\n",
    "frequent_itemsets\n"
   ]
  },
  {
   "cell_type": "code",
   "execution_count": null,
   "metadata": {},
   "outputs": [],
   "source": [
    "import matplotlib \n",
    "import squarify\n",
    "\n",
    "transactions = pd.DataFrame(te_ary, columns=te.columns_)\n",
    "pf = transactions.describe()\n",
    "f = pf.iloc[0]-pf.iloc[3]\n",
    "a = f.tolist()\n",
    "b = list(f.index)\n",
    "item = pd.DataFrame([[a[r],b[r]]for r in range(len(a))], columns=['Count','Item'])\n",
    "item = item.sort_values(['Count'], ascending=False).head(40)\n",
    "transactions\n",
    "\n",
    "\n",
    "fig, ax = plt.subplots()\n",
    "cmap = matplotlib.cm.coolwarm\n",
    "\n",
    "mini = min(item[\"Count\"])\n",
    "maxi = max(item[\"Count\"])\n",
    "\n",
    "norm = matplotlib.colors.Normalize(vmin=mini, vmax=maxi)\n",
    "colors = [cmap(norm(value)) for value in item[\"Count\"]]\n",
    "\n",
    "squarify.plot(sizes=item[\"Count\"], label=item[\"Item\"], alpha=0.8, color=colors)\n",
    "plt.axis('off')\n",
    "plt.title(\"Top 40 Frequent ICD10 Items\", fontsize=10)\n",
    "ttl = ax.title\n",
    "ttl.set_position([.5, 1.05])"
   ]
  },
  {
   "cell_type": "code",
   "execution_count": null,
   "metadata": {
    "scrolled": false
   },
   "outputs": [],
   "source": [
    "#item\n",
    "\n",
    "rules['lhs items'] = rules['antecedents'].apply(lambda x:len(x) )\n",
    "rules[rules['lhs items']>1].sort_values('lift', ascending=False).head()\n",
    "import matplotlib.pyplot as plt\n",
    "import seaborn as sns\n",
    "# Replace frozen sets with strings\n",
    "rules['antecedents_'] = rules['antecedents'].apply(lambda a: ','.join(list(a)))\n",
    "rules['consequents_'] = rules['consequents'].apply(lambda a: ','.join(list(a)))\n",
    "# Transform the DataFrame of rules into a matrix using the lift metric\n",
    "pivot = rules[rules['lhs items']>1].pivot(index = 'antecedents_', \n",
    "                    columns = 'consequents_', values= 'lift')\n",
    "# Generate a heatmap with annotations on and the colorbar off\n",
    "plt.figure(figsize = (15,5))\n",
    "sns.heatmap(pivot, annot = True)\n",
    "plt.yticks(rotation=0)\n",
    "plt.xticks(rotation=90)\n",
    "plt.show()"
   ]
  },
  {
   "cell_type": "code",
   "execution_count": null,
   "metadata": {
    "scrolled": false
   },
   "outputs": [],
   "source": [
    "import icd10\n",
    "print(icd10.find('R59.0').description)\n",
    "print(icd10.find('J43.9').description)\n"
   ]
  },
  {
   "cell_type": "code",
   "execution_count": null,
   "metadata": {
    "scrolled": true
   },
   "outputs": [],
   "source": [
    "import icd10\n",
    "pd.set_option('display.max_columns', None)  \n",
    "pd.set_option('display.expand_frame_repr', False)\n",
    "pd.set_option('max_colwidth', -1)\n",
    "\n",
    "def icd_decode(x):\n",
    "    icd_code=x.replace('_','.').replace(' ','')\n",
    "    code = icd10.find(icd_code)\n",
    "    return code.description\n",
    "\n",
    "\n",
    "for i in frequent_itemsets.iterrows():\n",
    "    icdlist0=[]\n",
    "    icdlist1=[]\n",
    "    for k in list(i[1][1]):\n",
    "        icdlist0.append(icd_decode(k))\n",
    "    print(icdlist0)"
   ]
  },
  {
   "cell_type": "code",
   "execution_count": null,
   "metadata": {},
   "outputs": [],
   "source": [
    "confid_itemsets\n",
    "for i in confid_itemsets.iterrows():\n",
    "    antecedents=[]\n",
    "    consequents=[]\n",
    "    for j in list(i[1][0]):\n",
    "       antecedents.append(icd_decode(j))\n",
    "    for k in list(i[1][1]):\n",
    "        consequents.append(icd_decode(k))\n",
    "        \n",
    "    print(antecedents,'*****',consequents)\n"
   ]
  },
  {
   "cell_type": "code",
   "execution_count": 1,
   "metadata": {},
   "outputs": [],
   "source": [
    "import numpy as np\n",
    "import scipy.sparse\n",
    "import sympy\n",
    "import sklearn.datasets\n",
    "import sklearn.feature_extraction.text\n",
    "import umap\n",
    "import umap.plot\n",
    "import matplotlib.pyplot as plt\n",
    "%matplotlib inline"
   ]
  },
  {
   "cell_type": "code",
   "execution_count": 3,
   "metadata": {},
   "outputs": [
    {
     "name": "stderr",
     "output_type": "stream",
     "text": [
      "C:\\Users\\Weeck\\AppData\\Roaming\\Python\\Python37\\site-packages\\umap_learn-0.5.0-py3.7.egg\\umap\\umap_.py:126: UserWarning: A few of your vertices were disconnected from the manifold.  This shouldn't cause problems.\n",
      "Disconnection_distance = 1 has removed 442644 edges.\n",
      "It has only fully disconnected 4 vertices.\n",
      "Use umap.utils.disconnected_vertices() to identify them.\n",
      "  f\"A few of your vertices were disconnected from the manifold.  This shouldn't cause problems.\\n\"\n"
     ]
    },
    {
     "name": "stdout",
     "output_type": "stream",
     "text": [
      "Wall time: 6.29 s\n"
     ]
    }
   ],
   "source": [
    "%%time\n",
    "mapper = umap.UMAP(metric='cosine', random_state=42, low_memory=True).fit(X_train)"
   ]
  },
  {
   "cell_type": "code",
   "execution_count": 8,
   "metadata": {},
   "outputs": [
    {
     "data": {
      "text/plain": [
       "<matplotlib.axes._subplots.AxesSubplot at 0x220d9eed988>"
      ]
     },
     "execution_count": 8,
     "metadata": {},
     "output_type": "execute_result"
    },
    {
     "data": {
      "image/png": "[encoded data removed]",
      "text/plain": [
       "<Figure size 800x800 with 1 Axes>"
      ]
     },
     "metadata": {},
     "output_type": "display_data"
    }
   ],
   "source": [
    "umap.plot.points(mapper, values=np.arange(765), theme='viridis')"
   ]
  },
  {
   "cell_type": "code",
   "execution_count": 5,
   "metadata": {},
   "outputs": [
    {
     "data": {
      "text/plain": [
       "(765, 992)"
      ]
     },
     "execution_count": 5,
     "metadata": {},
     "output_type": "execute_result"
    }
   ],
   "source": [
    "X_train.shape"
   ]
  }
 ],
 "metadata": {
  "kernelspec": {
   "display_name": "Python 3",
   "language": "python",
   "name": "python3"
  },
  "language_info": {
   "codemirror_mode": {
    "name": "ipython",
    "version": 3
   },
   "file_extension": ".py",
   "mimetype": "text/x-python",
   "name": "python",
   "nbconvert_exporter": "python",
   "pygments_lexer": "ipython3",
   "version": "3.7.6"
  }
 },
 "nbformat": 4,
 "nbformat_minor": 4
}
